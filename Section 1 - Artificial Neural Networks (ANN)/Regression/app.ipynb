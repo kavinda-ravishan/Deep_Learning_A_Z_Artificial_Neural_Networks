{
  "nbformat": 4,
  "nbformat_minor": 0,
  "metadata": {
    "colab": {
      "name": "Artificial Neural Network",
      "provenance": [],
      "collapsed_sections": [],
      "toc_visible": true
    },
    "kernelspec": {
      "name": "python385jvsc74a57bd0293c111297a61481508202fcd690d673b0775ece2d2d867b62b8842b676a9a30",
      "display_name": "Python 3.8.5 64-bit ('base': conda)"
    }
  },
  "cells": [
    {
      "cell_type": "markdown",
      "metadata": {
        "id": "3cbb7fRy-eyr",
        "colab_type": "text"
      },
      "source": [
        "# Artificial Neural Network"
      ]
    },
    {
      "cell_type": "markdown",
      "metadata": {
        "id": "8sNDnxE2-pwE",
        "colab_type": "text"
      },
      "source": [
        "### Importing the libraries"
      ]
    },
    {
      "cell_type": "code",
      "metadata": {
        "id": "lxChR1Rk-umf",
        "colab_type": "code",
        "colab": {}
      },
      "source": [
        "import numpy as np\n",
        "import pandas as pd\n",
        "import tensorflow as tf"
      ],
      "execution_count": 13,
      "outputs": []
    },
    {
      "cell_type": "code",
      "metadata": {
        "id": "uBTqR3nacj0e",
        "colab_type": "code",
        "colab": {
          "base_uri": "https://localhost:8080/",
          "height": 34
        },
        "outputId": "4c0bd183-e424-429a-9fba-ceb841c06888"
      },
      "source": [
        "tf.__version__"
      ],
      "execution_count": 14,
      "outputs": [
        {
          "output_type": "execute_result",
          "data": {
            "text/plain": [
              "'2.5.0'"
            ]
          },
          "metadata": {},
          "execution_count": 14
        }
      ]
    },
    {
      "cell_type": "markdown",
      "metadata": {
        "id": "AG3FQEch-yuA",
        "colab_type": "text"
      },
      "source": [
        "## Part 1 - Data Preprocessing"
      ]
    },
    {
      "cell_type": "markdown",
      "metadata": {
        "id": "-4zq8Mza_D9O",
        "colab_type": "text"
      },
      "source": [
        "### Importing the dataset"
      ]
    },
    {
      "cell_type": "code",
      "metadata": {
        "id": "B9CV13Co_HHM",
        "colab_type": "code",
        "colab": {}
      },
      "source": [
        "dataset = pd.read_excel('Folds5x2_pp.xlsx')\n",
        "X = dataset.iloc[:, :-1].values\n",
        "y = dataset.iloc[:, -1].values"
      ],
      "execution_count": 15,
      "outputs": []
    },
    {
      "cell_type": "markdown",
      "metadata": {
        "id": "VC6omXel_Up0",
        "colab_type": "text"
      },
      "source": [
        "### Splitting the dataset into the Training set and Test set"
      ]
    },
    {
      "cell_type": "code",
      "metadata": {
        "id": "L5edeb2r_agx",
        "colab_type": "code",
        "colab": {}
      },
      "source": [
        "from sklearn.model_selection import train_test_split\n",
        "X_train, X_test, y_train, y_test = train_test_split(X, y, test_size = 0.2, random_state = 0)"
      ],
      "execution_count": 16,
      "outputs": []
    },
    {
      "cell_type": "markdown",
      "metadata": {
        "id": "_mSLlAT9_eyI",
        "colab_type": "text"
      },
      "source": [
        "## Part 2 - Building the ANN"
      ]
    },
    {
      "cell_type": "markdown",
      "metadata": {
        "id": "CsBULd_f_wLY",
        "colab_type": "text"
      },
      "source": [
        "### Initializing the ANN"
      ]
    },
    {
      "cell_type": "code",
      "metadata": {
        "id": "J6Hd97Ls__Nz",
        "colab_type": "code",
        "colab": {}
      },
      "source": [
        "ann = tf.keras.models.Sequential()"
      ],
      "execution_count": 17,
      "outputs": []
    },
    {
      "cell_type": "markdown",
      "metadata": {
        "id": "iitAFJS_ABUn",
        "colab_type": "text"
      },
      "source": [
        "### Adding the input layer and the first hidden layer"
      ]
    },
    {
      "cell_type": "code",
      "metadata": {
        "id": "ksO_Vv40AHix",
        "colab_type": "code",
        "colab": {}
      },
      "source": [
        "ann.add(tf.keras.layers.Dense(units=6, activation='relu'))"
      ],
      "execution_count": 18,
      "outputs": []
    },
    {
      "cell_type": "markdown",
      "metadata": {
        "id": "-lb4kK_wAKbs",
        "colab_type": "text"
      },
      "source": [
        "### Adding the second hidden layer"
      ]
    },
    {
      "cell_type": "code",
      "metadata": {
        "id": "c2357OqEAQOQ",
        "colab_type": "code",
        "colab": {}
      },
      "source": [
        "ann.add(tf.keras.layers.Dense(units=6, activation='relu'))"
      ],
      "execution_count": 19,
      "outputs": []
    },
    {
      "cell_type": "markdown",
      "metadata": {
        "id": "jwMOmKb3AdBY",
        "colab_type": "text"
      },
      "source": [
        "### Adding the output layer"
      ]
    },
    {
      "cell_type": "code",
      "metadata": {
        "id": "YFATpzsUAkLL",
        "colab_type": "code",
        "colab": {}
      },
      "source": [
        "ann.add(tf.keras.layers.Dense(units=1))"
      ],
      "execution_count": 20,
      "outputs": []
    },
    {
      "cell_type": "markdown",
      "metadata": {
        "id": "fq7e4fF6A1yy",
        "colab_type": "text"
      },
      "source": [
        "## Part 3 - Training the ANN"
      ]
    },
    {
      "cell_type": "markdown",
      "metadata": {
        "id": "qDeylAs2An25",
        "colab_type": "text"
      },
      "source": [
        "### Compiling the ANN"
      ]
    },
    {
      "cell_type": "code",
      "metadata": {
        "id": "pesgbWlCAtB4",
        "colab_type": "code",
        "colab": {}
      },
      "source": [
        "ann.compile(optimizer = 'adam', loss = 'mean_squared_error')"
      ],
      "execution_count": 21,
      "outputs": []
    },
    {
      "cell_type": "markdown",
      "metadata": {
        "id": "YjVuiybYOo7r",
        "colab_type": "text"
      },
      "source": [
        "### Training the ANN model on the Training set"
      ]
    },
    {
      "cell_type": "code",
      "metadata": {
        "id": "c_vV-tiiA5zn",
        "colab_type": "code",
        "colab": {
          "base_uri": "https://localhost:8080/",
          "height": 1000
        },
        "outputId": "4a2b6ee6-ed75-4698-9069-b250e613803f"
      },
      "source": [
        "ann.fit(X_train, y_train, batch_size = 32, epochs = 100)"
      ],
      "execution_count": 22,
      "outputs": [
        {
          "output_type": "stream",
          "name": "stdout",
          "text": [
            "Epoch 1/100\n",
            "240/240 [==============================] - 4s 3ms/step - loss: 193679.2656\n",
            "Epoch 2/100\n",
            "240/240 [==============================] - 1s 2ms/step - loss: 26921.4277\n",
            "Epoch 3/100\n",
            "240/240 [==============================] - 1s 2ms/step - loss: 376.5720\n",
            "Epoch 4/100\n",
            "240/240 [==============================] - 1s 3ms/step - loss: 369.0380\n",
            "Epoch 5/100\n",
            "240/240 [==============================] - 1s 2ms/step - loss: 359.7050\n",
            "Epoch 6/100\n",
            "240/240 [==============================] - 1s 2ms/step - loss: 348.9250\n",
            "Epoch 7/100\n",
            "240/240 [==============================] - 0s 2ms/step - loss: 337.0990\n",
            "Epoch 8/100\n",
            "240/240 [==============================] - 1s 2ms/step - loss: 323.7796\n",
            "Epoch 9/100\n",
            "240/240 [==============================] - 1s 2ms/step - loss: 308.9987\n",
            "Epoch 10/100\n",
            "240/240 [==============================] - 1s 2ms/step - loss: 293.0535\n",
            "Epoch 11/100\n",
            "240/240 [==============================] - 1s 2ms/step - loss: 276.4354\n",
            "Epoch 12/100\n",
            "240/240 [==============================] - 1s 2ms/step - loss: 259.2566\n",
            "Epoch 13/100\n",
            "240/240 [==============================] - 1s 2ms/step - loss: 241.2185\n",
            "Epoch 14/100\n",
            "240/240 [==============================] - 1s 2ms/step - loss: 222.1353\n",
            "Epoch 15/100\n",
            "240/240 [==============================] - 1s 3ms/step - loss: 202.8779\n",
            "Epoch 16/100\n",
            "240/240 [==============================] - 1s 3ms/step - loss: 184.1434\n",
            "Epoch 17/100\n",
            "240/240 [==============================] - 1s 3ms/step - loss: 165.5717\n",
            "Epoch 18/100\n",
            "240/240 [==============================] - 1s 3ms/step - loss: 147.5920\n",
            "Epoch 19/100\n",
            "240/240 [==============================] - 1s 3ms/step - loss: 131.0070\n",
            "Epoch 20/100\n",
            "240/240 [==============================] - 1s 2ms/step - loss: 114.8030\n",
            "Epoch 21/100\n",
            "240/240 [==============================] - 1s 2ms/step - loss: 100.3398\n",
            "Epoch 22/100\n",
            "240/240 [==============================] - 1s 2ms/step - loss: 87.6371\n",
            "Epoch 23/100\n",
            "240/240 [==============================] - 0s 2ms/step - loss: 76.1598\n",
            "Epoch 24/100\n",
            "240/240 [==============================] - 0s 2ms/step - loss: 66.5046\n",
            "Epoch 25/100\n",
            "240/240 [==============================] - 1s 2ms/step - loss: 58.2815\n",
            "Epoch 26/100\n",
            "240/240 [==============================] - 0s 2ms/step - loss: 51.9204\n",
            "Epoch 27/100\n",
            "240/240 [==============================] - 1s 2ms/step - loss: 46.8121\n",
            "Epoch 28/100\n",
            "240/240 [==============================] - 0s 2ms/step - loss: 42.6004\n",
            "Epoch 29/100\n",
            "240/240 [==============================] - 1s 3ms/step - loss: 40.3085\n",
            "Epoch 30/100\n",
            "240/240 [==============================] - 1s 3ms/step - loss: 37.8178\n",
            "Epoch 31/100\n",
            "240/240 [==============================] - 1s 2ms/step - loss: 35.8926\n",
            "Epoch 32/100\n",
            "240/240 [==============================] - 1s 3ms/step - loss: 34.9162\n",
            "Epoch 33/100\n",
            "240/240 [==============================] - 1s 3ms/step - loss: 33.4509\n",
            "Epoch 34/100\n",
            "240/240 [==============================] - 1s 3ms/step - loss: 32.9526\n",
            "Epoch 35/100\n",
            "240/240 [==============================] - 1s 3ms/step - loss: 32.3667\n",
            "Epoch 36/100\n",
            "240/240 [==============================] - 1s 2ms/step - loss: 31.7118\n",
            "Epoch 37/100\n",
            "240/240 [==============================] - 1s 4ms/step - loss: 31.1159\n",
            "Epoch 38/100\n",
            "240/240 [==============================] - 1s 4ms/step - loss: 31.3191\n",
            "Epoch 39/100\n",
            "240/240 [==============================] - 1s 3ms/step - loss: 30.5887\n",
            "Epoch 40/100\n",
            "240/240 [==============================] - 1s 3ms/step - loss: 30.1986\n",
            "Epoch 41/100\n",
            "240/240 [==============================] - 1s 3ms/step - loss: 29.8419\n",
            "Epoch 42/100\n",
            "240/240 [==============================] - 1s 3ms/step - loss: 29.6624\n",
            "Epoch 43/100\n",
            "240/240 [==============================] - 1s 3ms/step - loss: 29.4042\n",
            "Epoch 44/100\n",
            "240/240 [==============================] - 1s 3ms/step - loss: 29.3481\n",
            "Epoch 45/100\n",
            "240/240 [==============================] - 1s 3ms/step - loss: 29.0968\n",
            "Epoch 46/100\n",
            "240/240 [==============================] - 1s 3ms/step - loss: 29.5851\n",
            "Epoch 47/100\n",
            "240/240 [==============================] - 1s 2ms/step - loss: 28.7989\n",
            "Epoch 48/100\n",
            "240/240 [==============================] - 1s 2ms/step - loss: 28.7596\n",
            "Epoch 49/100\n",
            "240/240 [==============================] - 1s 2ms/step - loss: 28.3675\n",
            "Epoch 50/100\n",
            "240/240 [==============================] - 1s 3ms/step - loss: 28.2270\n",
            "Epoch 51/100\n",
            "240/240 [==============================] - 1s 2ms/step - loss: 28.4341\n",
            "Epoch 52/100\n",
            "240/240 [==============================] - 1s 2ms/step - loss: 28.4850\n",
            "Epoch 53/100\n",
            "240/240 [==============================] - 1s 2ms/step - loss: 28.0492\n",
            "Epoch 54/100\n",
            "240/240 [==============================] - 1s 2ms/step - loss: 27.8906\n",
            "Epoch 55/100\n",
            "240/240 [==============================] - 1s 2ms/step - loss: 27.9549\n",
            "Epoch 56/100\n",
            "240/240 [==============================] - 1s 2ms/step - loss: 28.0770\n",
            "Epoch 57/100\n",
            "240/240 [==============================] - 1s 2ms/step - loss: 27.3570\n",
            "Epoch 58/100\n",
            "240/240 [==============================] - 1s 2ms/step - loss: 27.5075\n",
            "Epoch 59/100\n",
            "240/240 [==============================] - 1s 2ms/step - loss: 27.3554\n",
            "Epoch 60/100\n",
            "240/240 [==============================] - 1s 2ms/step - loss: 27.9838\n",
            "Epoch 61/100\n",
            "240/240 [==============================] - 1s 3ms/step - loss: 27.3229\n",
            "Epoch 62/100\n",
            "240/240 [==============================] - 1s 3ms/step - loss: 27.3730\n",
            "Epoch 63/100\n",
            "240/240 [==============================] - 1s 2ms/step - loss: 27.4948\n",
            "Epoch 64/100\n",
            "240/240 [==============================] - 1s 2ms/step - loss: 27.3220\n",
            "Epoch 65/100\n",
            "240/240 [==============================] - 1s 2ms/step - loss: 27.5601\n",
            "Epoch 66/100\n",
            "240/240 [==============================] - 1s 3ms/step - loss: 26.9415\n",
            "Epoch 67/100\n",
            "240/240 [==============================] - 1s 3ms/step - loss: 27.1687\n",
            "Epoch 68/100\n",
            "240/240 [==============================] - 1s 2ms/step - loss: 27.0294\n",
            "Epoch 69/100\n",
            "240/240 [==============================] - 1s 2ms/step - loss: 27.4086\n",
            "Epoch 70/100\n",
            "240/240 [==============================] - 1s 2ms/step - loss: 27.1235\n",
            "Epoch 71/100\n",
            "240/240 [==============================] - 1s 2ms/step - loss: 27.1583\n",
            "Epoch 72/100\n",
            "240/240 [==============================] - 1s 2ms/step - loss: 27.2793\n",
            "Epoch 73/100\n",
            "240/240 [==============================] - 1s 2ms/step - loss: 26.7082\n",
            "Epoch 74/100\n",
            "240/240 [==============================] - 1s 2ms/step - loss: 26.8605\n",
            "Epoch 75/100\n",
            "240/240 [==============================] - 1s 2ms/step - loss: 27.1919\n",
            "Epoch 76/100\n",
            "240/240 [==============================] - 1s 2ms/step - loss: 27.2392\n",
            "Epoch 77/100\n",
            "240/240 [==============================] - 1s 3ms/step - loss: 27.1977\n",
            "Epoch 78/100\n",
            "240/240 [==============================] - 1s 2ms/step - loss: 26.8766\n",
            "Epoch 79/100\n",
            "240/240 [==============================] - 1s 2ms/step - loss: 26.8861\n",
            "Epoch 80/100\n",
            "240/240 [==============================] - 1s 2ms/step - loss: 27.1920\n",
            "Epoch 81/100\n",
            "240/240 [==============================] - 1s 2ms/step - loss: 26.9929\n",
            "Epoch 82/100\n",
            "240/240 [==============================] - 1s 3ms/step - loss: 26.8398\n",
            "Epoch 83/100\n",
            "240/240 [==============================] - 1s 2ms/step - loss: 26.5920\n",
            "Epoch 84/100\n",
            "240/240 [==============================] - 1s 2ms/step - loss: 26.4357\n",
            "Epoch 85/100\n",
            "240/240 [==============================] - 1s 3ms/step - loss: 26.6860\n",
            "Epoch 86/100\n",
            "240/240 [==============================] - 1s 3ms/step - loss: 26.4343\n",
            "Epoch 87/100\n",
            "240/240 [==============================] - 1s 3ms/step - loss: 26.5619\n",
            "Epoch 88/100\n",
            "240/240 [==============================] - 1s 3ms/step - loss: 26.4857\n",
            "Epoch 89/100\n",
            "240/240 [==============================] - 1s 3ms/step - loss: 27.5455\n",
            "Epoch 90/100\n",
            "240/240 [==============================] - 1s 3ms/step - loss: 26.6417\n",
            "Epoch 91/100\n",
            "240/240 [==============================] - 1s 3ms/step - loss: 26.5106\n",
            "Epoch 92/100\n",
            "240/240 [==============================] - 1s 2ms/step - loss: 26.4290\n",
            "Epoch 93/100\n",
            "240/240 [==============================] - 1s 2ms/step - loss: 26.8629\n",
            "Epoch 94/100\n",
            "240/240 [==============================] - 1s 3ms/step - loss: 26.4632\n",
            "Epoch 95/100\n",
            "240/240 [==============================] - 1s 2ms/step - loss: 26.5868\n",
            "Epoch 96/100\n",
            "240/240 [==============================] - 1s 2ms/step - loss: 26.9502\n",
            "Epoch 97/100\n",
            "240/240 [==============================] - 1s 3ms/step - loss: 26.6460\n",
            "Epoch 98/100\n",
            "240/240 [==============================] - 1s 2ms/step - loss: 26.5317\n",
            "Epoch 99/100\n",
            "240/240 [==============================] - 1s 3ms/step - loss: 26.2806\n",
            "Epoch 100/100\n",
            "240/240 [==============================] - 1s 2ms/step - loss: 26.6937\n"
          ]
        },
        {
          "output_type": "execute_result",
          "data": {
            "text/plain": [
              "<tensorflow.python.keras.callbacks.History at 0x1680e879eb0>"
            ]
          },
          "metadata": {},
          "execution_count": 22
        }
      ]
    },
    {
      "cell_type": "markdown",
      "metadata": {
        "id": "0H0zKKNEBLD5",
        "colab_type": "text"
      },
      "source": [
        "### Predicting the results of the Test set"
      ]
    },
    {
      "cell_type": "code",
      "metadata": {
        "id": "IA0yApEmBG1X",
        "colab_type": "code",
        "colab": {
          "base_uri": "https://localhost:8080/",
          "height": 134
        },
        "outputId": "cb981e1f-9204-4a2a-fece-9d66a6919189"
      },
      "source": [
        "y_pred = ann.predict(X_test)\n",
        "np.set_printoptions(precision=2)\n",
        "print(np.concatenate((y_pred.reshape(len(y_pred),1), y_test.reshape(len(y_test),1)),1))"
      ],
      "execution_count": 23,
      "outputs": [
        {
          "output_type": "stream",
          "name": "stdout",
          "text": [
            "[[430.65 431.23]\n [462.05 460.01]\n [465.72 461.14]\n ...\n [472.61 473.26]\n [440.07 438.  ]\n [459.   463.28]]\n"
          ]
        }
      ]
    }
  ]
}