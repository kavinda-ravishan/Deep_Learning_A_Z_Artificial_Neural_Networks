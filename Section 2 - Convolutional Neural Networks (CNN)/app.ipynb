{
  "nbformat": 4,
  "nbformat_minor": 0,
  "metadata": {
    "colab": {
      "name": "convolutional_neural_network.ipynb",
      "provenance": [],
      "collapsed_sections": [],
      "toc_visible": true
    },
    "kernelspec": {
      "name": "python385jvsc74a57bd0293c111297a61481508202fcd690d673b0775ece2d2d867b62b8842b676a9a30",
      "display_name": "Python 3.8.5 64-bit ('base': conda)"
    }
  },
  "cells": [
    {
      "cell_type": "markdown",
      "metadata": {
        "id": "3DR-eO17geWu",
        "colab_type": "text"
      },
      "source": [
        "# Convolutional Neural Network"
      ]
    },
    {
      "cell_type": "markdown",
      "metadata": {
        "id": "EMefrVPCg-60",
        "colab_type": "text"
      },
      "source": [
        "### Importing the libraries"
      ]
    },
    {
      "cell_type": "code",
      "metadata": {
        "id": "sCV30xyVhFbE",
        "colab_type": "code",
        "colab": {}
      },
      "source": [
        "import tensorflow as tf\n",
        "from keras.preprocessing.image import ImageDataGenerator"
      ],
      "execution_count": 19,
      "outputs": []
    },
    {
      "cell_type": "code",
      "metadata": {
        "id": "FIleuCAjoFD8",
        "colab_type": "code",
        "colab": {}
      },
      "source": [
        "tf.__version__"
      ],
      "execution_count": 20,
      "outputs": [
        {
          "output_type": "execute_result",
          "data": {
            "text/plain": [
              "'2.5.0'"
            ]
          },
          "metadata": {},
          "execution_count": 20
        }
      ]
    },
    {
      "cell_type": "markdown",
      "metadata": {
        "id": "oxQxCBWyoGPE",
        "colab_type": "text"
      },
      "source": [
        "## Part 1 - Data Preprocessing"
      ]
    },
    {
      "cell_type": "markdown",
      "metadata": {
        "id": "MvE-heJNo3GG",
        "colab_type": "text"
      },
      "source": [
        "### Preprocessing the Training set (Image augmentation)"
      ]
    },
    {
      "source": [
        "### Image augmentation artificially creates training images through different ways of processing or combination of multiple processing, such as random rotation, shifts, shear and flips, etc.\n",
        "#### Apply some transformations only to training set for aviod overfitting.\n",
        "#### Otherwise we will get higher accuracy for training test and very low accuracy for test set."
      ],
      "cell_type": "markdown",
      "metadata": {}
    },
    {
      "source": [
        "# rescale = 1./255 : Apply feature scaling for each pixal : 0 - 255 -> 0 - 1\n",
        "train_datagen = ImageDataGenerator(\n",
        "        rescale = 1./255,\n",
        "        shear_range = 0.2,\n",
        "        zoom_range = 0.2,\n",
        "        horizontal_flip = True)\n",
        "\n",
        "# target_size: Either None (default to original size) or tuple of ints (img_height, img_width).\n",
        "training_set = train_datagen.flow_from_directory(\n",
        "        \"dataset/training_set\",\n",
        "        target_size=(64, 64),\n",
        "        batch_size=32,\n",
        "        class_mode='binary')"
      ],
      "cell_type": "code",
      "metadata": {},
      "execution_count": 21,
      "outputs": [
        {
          "output_type": "stream",
          "name": "stdout",
          "text": [
            "Found 8000 images belonging to 2 classes.\n"
          ]
        }
      ]
    },
    {
      "cell_type": "markdown",
      "metadata": {
        "id": "mrCMmGw9pHys",
        "colab_type": "text"
      },
      "source": [
        "### Preprocessing the Test set"
      ]
    },
    {
      "cell_type": "code",
      "execution_count": 22,
      "metadata": {},
      "outputs": [
        {
          "output_type": "stream",
          "name": "stdout",
          "text": [
            "Found 2000 images belonging to 2 classes.\n"
          ]
        }
      ],
      "source": [
        "test_datagen = ImageDataGenerator(rescale=1./255)\n",
        "test_set = test_datagen.flow_from_directory(\n",
        "        \"dataset/test_set\",\n",
        "        target_size=(64, 64),\n",
        "        batch_size=32,\n",
        "        class_mode='binary')"
      ]
    },
    {
      "cell_type": "markdown",
      "metadata": {
        "id": "af8O4l90gk7B",
        "colab_type": "text"
      },
      "source": [
        "## Part 2 - Building the CNN"
      ]
    },
    {
      "cell_type": "markdown",
      "metadata": {
        "id": "ces1gXY2lmoX",
        "colab_type": "text"
      },
      "source": [
        "### Initialising the CNN"
      ]
    },
    {
      "cell_type": "code",
      "execution_count": 23,
      "metadata": {},
      "outputs": [],
      "source": [
        "cnn = tf.keras.models.Sequential()"
      ]
    },
    {
      "cell_type": "markdown",
      "metadata": {
        "id": "u5YJj_XMl5LF",
        "colab_type": "text"
      },
      "source": [
        "### Step 1 - Convolution"
      ]
    },
    {
      "cell_type": "code",
      "execution_count": 24,
      "metadata": {},
      "outputs": [],
      "source": [
        "# filters = 32 : classical architecture with 32 feture detectors (filters or kernels)\n",
        "# kernel_size = 3 : kernel size 3 by 3\n",
        "# input_shape = [64, 64, 3] : only for first convolution layer 64 by 64 images with RGB channels\n",
        "cnn.add(tf.keras.layers.Conv2D(filters = 32, kernel_size = 3,activation = \"relu\", input_shape = [64, 64, 3]))"
      ]
    },
    {
      "cell_type": "markdown",
      "metadata": {
        "id": "tf87FpvxmNOJ",
        "colab_type": "text"
      },
      "source": [
        "### Step 2 - Pooling (Apply max-pooling)"
      ]
    },
    {
      "cell_type": "code",
      "execution_count": 25,
      "metadata": {},
      "outputs": [],
      "source": [
        "# pool_size = 2 : pooling window size 2 by 2 (recommend for max pooling)\n",
        "# strides = 2 : pooling window sliding step size 2 pixels\n",
        "cnn.add(tf.keras.layers.MaxPool2D(pool_size = 2,strides = 2))"
      ]
    },
    {
      "cell_type": "markdown",
      "metadata": {
        "id": "xaTOgD8rm4mU",
        "colab_type": "text"
      },
      "source": [
        "### Adding a second convolutional layer"
      ]
    },
    {
      "cell_type": "code",
      "execution_count": 26,
      "metadata": {},
      "outputs": [],
      "source": [
        "cnn.add(tf.keras.layers.Conv2D(filters = 32, kernel_size = 3,activation = \"relu\"))\n",
        "cnn.add(tf.keras.layers.MaxPool2D(pool_size = 2,strides = 2))"
      ]
    },
    {
      "cell_type": "markdown",
      "metadata": {
        "id": "tmiEuvTunKfk",
        "colab_type": "text"
      },
      "source": [
        "### Step 3 - Flattening"
      ]
    },
    {
      "cell_type": "code",
      "execution_count": 27,
      "metadata": {},
      "outputs": [],
      "source": [
        "cnn.add(tf.keras.layers.Flatten())"
      ]
    },
    {
      "cell_type": "markdown",
      "metadata": {
        "id": "dAoSECOm203v",
        "colab_type": "text"
      },
      "source": [
        "### Step 4 - Full Connection"
      ]
    },
    {
      "cell_type": "code",
      "execution_count": 28,
      "metadata": {},
      "outputs": [],
      "source": [
        "# relu good for all layers except to the final layer\n",
        "cnn.add(tf.keras.layers.Dense(units = 128, activation = 'relu'))"
      ]
    },
    {
      "cell_type": "markdown",
      "metadata": {
        "id": "yTldFvbX28Na",
        "colab_type": "text"
      },
      "source": [
        "### Step 5 - Output Layer"
      ]
    },
    {
      "cell_type": "code",
      "execution_count": 29,
      "metadata": {},
      "outputs": [],
      "source": [
        "# softmax for not binary predictions \n",
        "cnn.add(tf.keras.layers.Dense(units = 1, activation = 'sigmoid'))"
      ]
    },
    {
      "cell_type": "markdown",
      "metadata": {
        "id": "D6XkI90snSDl",
        "colab_type": "text"
      },
      "source": [
        "## Part 3 - Training the CNN"
      ]
    },
    {
      "cell_type": "markdown",
      "metadata": {
        "id": "vfrFQACEnc6i",
        "colab_type": "text"
      },
      "source": [
        "### Compiling the CNN"
      ]
    },
    {
      "cell_type": "code",
      "execution_count": 30,
      "metadata": {},
      "outputs": [],
      "source": [
        "cnn.compile(optimizer = 'adam', loss = \"binary_crossentropy\", metrics=[\"accuracy\"])\n",
        "# batch_size = 32, Found 8000 images\n",
        "# 32 * 250 = 8000"
      ]
    },
    {
      "cell_type": "markdown",
      "metadata": {
        "id": "ehS-v3MIpX2h",
        "colab_type": "text"
      },
      "source": [
        "### Training the CNN on the Training set and evaluating it on the Test set"
      ]
    },
    {
      "cell_type": "code",
      "execution_count": 31,
      "metadata": {},
      "outputs": [
        {
          "output_type": "stream",
          "name": "stdout",
          "text": [
            "Epoch 1/25\n",
            "250/250 [==============================] - 231s 906ms/step - loss: 0.6691 - accuracy: 0.5844 - val_loss: 0.6274 - val_accuracy: 0.6295\n",
            "Epoch 2/25\n",
            "250/250 [==============================] - 91s 364ms/step - loss: 0.6077 - accuracy: 0.6708 - val_loss: 0.5561 - val_accuracy: 0.7145\n",
            "Epoch 3/25\n",
            "250/250 [==============================] - 90s 360ms/step - loss: 0.5623 - accuracy: 0.7084 - val_loss: 0.5397 - val_accuracy: 0.7360\n",
            "Epoch 4/25\n",
            "250/250 [==============================] - 86s 345ms/step - loss: 0.5364 - accuracy: 0.7226 - val_loss: 0.5160 - val_accuracy: 0.7505\n",
            "Epoch 5/25\n",
            "250/250 [==============================] - 85s 339ms/step - loss: 0.5127 - accuracy: 0.7424 - val_loss: 0.4836 - val_accuracy: 0.7700\n",
            "Epoch 6/25\n",
            "250/250 [==============================] - 88s 351ms/step - loss: 0.4936 - accuracy: 0.7606 - val_loss: 0.5116 - val_accuracy: 0.7615\n",
            "Epoch 7/25\n",
            "250/250 [==============================] - 88s 351ms/step - loss: 0.4776 - accuracy: 0.7699 - val_loss: 0.4731 - val_accuracy: 0.7755\n",
            "Epoch 8/25\n",
            "250/250 [==============================] - 86s 346ms/step - loss: 0.4638 - accuracy: 0.7786 - val_loss: 0.4898 - val_accuracy: 0.7800\n",
            "Epoch 9/25\n",
            "250/250 [==============================] - 89s 355ms/step - loss: 0.4541 - accuracy: 0.7878 - val_loss: 0.4765 - val_accuracy: 0.7830\n",
            "Epoch 10/25\n",
            "250/250 [==============================] - 86s 345ms/step - loss: 0.4387 - accuracy: 0.7933 - val_loss: 0.5541 - val_accuracy: 0.7420\n",
            "Epoch 11/25\n",
            "250/250 [==============================] - 89s 355ms/step - loss: 0.4257 - accuracy: 0.7993 - val_loss: 0.4760 - val_accuracy: 0.7800\n",
            "Epoch 12/25\n",
            "250/250 [==============================] - 88s 351ms/step - loss: 0.4127 - accuracy: 0.8098 - val_loss: 0.5535 - val_accuracy: 0.7400\n",
            "Epoch 13/25\n",
            "250/250 [==============================] - 90s 359ms/step - loss: 0.4058 - accuracy: 0.8141 - val_loss: 0.4587 - val_accuracy: 0.7905\n",
            "Epoch 14/25\n",
            "250/250 [==============================] - 88s 350ms/step - loss: 0.3965 - accuracy: 0.8209 - val_loss: 0.4616 - val_accuracy: 0.7870\n",
            "Epoch 15/25\n",
            "250/250 [==============================] - 86s 343ms/step - loss: 0.3820 - accuracy: 0.8274 - val_loss: 0.4951 - val_accuracy: 0.7850\n",
            "Epoch 16/25\n",
            "250/250 [==============================] - 85s 341ms/step - loss: 0.3762 - accuracy: 0.8260 - val_loss: 0.4583 - val_accuracy: 0.8030\n",
            "Epoch 17/25\n",
            "250/250 [==============================] - 86s 346ms/step - loss: 0.3567 - accuracy: 0.8394 - val_loss: 0.5567 - val_accuracy: 0.7580\n",
            "Epoch 18/25\n",
            "250/250 [==============================] - 88s 350ms/step - loss: 0.3433 - accuracy: 0.8447 - val_loss: 0.4667 - val_accuracy: 0.8070\n",
            "Epoch 19/25\n",
            "250/250 [==============================] - 85s 340ms/step - loss: 0.3320 - accuracy: 0.8555 - val_loss: 0.4780 - val_accuracy: 0.7945\n",
            "Epoch 20/25\n",
            "250/250 [==============================] - 90s 359ms/step - loss: 0.3260 - accuracy: 0.8608 - val_loss: 0.4699 - val_accuracy: 0.8180\n",
            "Epoch 21/25\n",
            "250/250 [==============================] - 88s 352ms/step - loss: 0.3196 - accuracy: 0.8564 - val_loss: 0.4674 - val_accuracy: 0.7975\n",
            "Epoch 22/25\n",
            "250/250 [==============================] - 86s 342ms/step - loss: 0.3019 - accuracy: 0.8715 - val_loss: 0.5161 - val_accuracy: 0.7920\n",
            "Epoch 23/25\n",
            "250/250 [==============================] - 86s 343ms/step - loss: 0.2933 - accuracy: 0.8724 - val_loss: 0.4799 - val_accuracy: 0.8110\n",
            "Epoch 24/25\n",
            "250/250 [==============================] - 86s 345ms/step - loss: 0.2905 - accuracy: 0.8740 - val_loss: 0.5531 - val_accuracy: 0.7825\n",
            "Epoch 25/25\n",
            "250/250 [==============================] - 85s 342ms/step - loss: 0.2677 - accuracy: 0.8880 - val_loss: 0.5262 - val_accuracy: 0.7945\n"
          ]
        },
        {
          "output_type": "execute_result",
          "data": {
            "text/plain": [
              "<tensorflow.python.keras.callbacks.History at 0x1fa8de375e0>"
            ]
          },
          "metadata": {},
          "execution_count": 31
        }
      ],
      "source": [
        "cnn.fit(x = training_set, validation_data = test_set, epochs = 25)"
      ]
    },
    {
      "cell_type": "markdown",
      "metadata": {
        "id": "U3PZasO0006Z",
        "colab_type": "text"
      },
      "source": [
        "## Part 4 - Making a single prediction"
      ]
    },
    {
      "cell_type": "code",
      "execution_count": 42,
      "metadata": {},
      "outputs": [
        {
          "output_type": "stream",
          "name": "stdout",
          "text": [
            "{'cats': 0, 'dogs': 1}\n"
          ]
        }
      ],
      "source": [
        "import numpy as np\n",
        "from keras.preprocessing import image\n",
        "\n",
        "test_image = image.load_img(\"dataset/single_prediction/cat_or_dog_2.jpg\", target_size = (64, 64))\n",
        "# Converts a PIL Image instance to a Numpy array.\n",
        "test_image = image.img_to_array(test_image)\n",
        "# Add image to a batch by adding extra dimension (cnn only accept batch for predict)\n",
        "# axis = 0 : add extra dimension as first dimension ( batch[ [img1], [img2], .. ] )\n",
        "test_image = np.expand_dims(test_image, axis = 0)\n",
        "result = cnn.predict(test_image)\n",
        "\n",
        "# for identfy cat and dog classes ( 1 or 0 )\n",
        "print(training_set.class_indices)\n",
        "# result[0][0]\n",
        "#        |  |_____ First Image\n",
        "#        |________ First Batch\n",
        "if result[0][0] == 1:\n",
        "    prediction = \"Dog\"\n",
        "else:\n",
        "    prediction = \"Cat\""
      ]
    },
    {
      "cell_type": "code",
      "execution_count": 43,
      "metadata": {},
      "outputs": [
        {
          "output_type": "stream",
          "name": "stdout",
          "text": [
            "Cat\n"
          ]
        }
      ],
      "source": [
        "print(prediction)"
      ]
    },
    {
      "cell_type": "code",
      "execution_count": null,
      "metadata": {},
      "outputs": [],
      "source": []
    }
  ]
}